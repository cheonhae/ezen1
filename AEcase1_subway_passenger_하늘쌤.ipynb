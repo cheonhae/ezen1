{
  "nbformat": 4,
  "nbformat_minor": 0,
  "metadata": {
    "colab": {
      "name": "AEcase1_subway_passenger_하늘쌤.ipynb",
      "provenance": [],
      "collapsed_sections": [
        "o6q_PvNLRlYb",
        "40hDBn0xR3FT"
      ],
      "toc_visible": true,
      "include_colab_link": true
    },
    "kernelspec": {
      "display_name": "Python 3",
      "language": "python",
      "name": "python3"
    },
    "language_info": {
      "codemirror_mode": {
        "name": "ipython",
        "version": 3
      },
      "file_extension": ".py",
      "mimetype": "text/x-python",
      "name": "python",
      "nbconvert_exporter": "python",
      "pygments_lexer": "ipython3",
      "version": "3.7.6"
    }
  },
  "cells": [
    {
      "cell_type": "markdown",
      "metadata": {
        "id": "view-in-github",
        "colab_type": "text"
      },
      "source": [
        "<a href=\"https://colab.research.google.com/github/cheonhae/ezen1/blob/main/AEcase1_subway_passenger_%ED%95%98%EB%8A%98%EC%8C%A4.ipynb\" target=\"_parent\"><img src=\"https://colab.research.google.com/assets/colab-badge.svg\" alt=\"Open In Colab\"/></a>"
      ]
    },
    {
      "cell_type": "markdown",
      "metadata": {
        "id": "xrC_srDQOANS"
      },
      "source": [
        "# **사전준비 for colab**\n",
        "matplotlib 그래프 내 한글 글꼴 표시를 위한 설치 및 런타임 다시 시작과 폰트 설정 작업을 단계별로 수행한다."
      ]
    },
    {
      "cell_type": "markdown",
      "metadata": {
        "id": "o6q_PvNLRlYb"
      },
      "source": [
        "## [1] 폰트 설치 (나눔글꼴) 및 폰트매니저 재구성"
      ]
    },
    {
      "cell_type": "code",
      "metadata": {
        "id": "aSvO05pf6hVJ",
        "colab": {
          "base_uri": "https://localhost:8080/"
        },
        "outputId": "76708fa4-f398-442a-f5b2-d04fc216f80a"
      },
      "source": [
        "####  없어도 됨 [폰트개수 확인용]\n",
        "# 시스템내 최초 설치된 폰트개수 확인 - 처음에는 기본 폰트만 설치됨\n",
        "\n",
        "import matplotlib.font_manager as fm  # 폰트 관련 용도\n",
        "sys_font=fm.findSystemFonts()\n",
        "print(f\"sys_font number: {len(sys_font)}\")\n",
        "\n",
        "nanum_font = [f for f in sys_font if 'Nanum' in f]\n",
        "print(f\"nanum_font number: {len(nanum_font)}\")"
      ],
      "execution_count": 9,
      "outputs": [
        {
          "output_type": "stream",
          "name": "stdout",
          "text": [
            "sys_font number: 17\n",
            "nanum_font number: 0\n"
          ]
        }
      ]
    },
    {
      "cell_type": "code",
      "metadata": {
        "id": "uOjYIs0z1tlk",
        "colab": {
          "base_uri": "https://localhost:8080/"
        },
        "outputId": "227bec03-7a93-4094-9098-9c8e867496fb"
      },
      "source": [
        "# 나눔고디 폰트 설치\n",
        "\n",
        "!apt-get update -qq\n",
        "!apt-get install fonts-nanum* -qq"
      ],
      "execution_count": 10,
      "outputs": [
        {
          "output_type": "stream",
          "name": "stdout",
          "text": [
            "Selecting previously unselected package fonts-nanum.\n",
            "(Reading database ... 148492 files and directories currently installed.)\n",
            "Preparing to unpack .../fonts-nanum_20170925-1_all.deb ...\n",
            "Unpacking fonts-nanum (20170925-1) ...\n",
            "Selecting previously unselected package fonts-nanum-eco.\n",
            "Preparing to unpack .../fonts-nanum-eco_1.000-6_all.deb ...\n",
            "Unpacking fonts-nanum-eco (1.000-6) ...\n",
            "Selecting previously unselected package fonts-nanum-extra.\n",
            "Preparing to unpack .../fonts-nanum-extra_20170925-1_all.deb ...\n",
            "Unpacking fonts-nanum-extra (20170925-1) ...\n",
            "Selecting previously unselected package fonts-nanum-coding.\n",
            "Preparing to unpack .../fonts-nanum-coding_2.5-1_all.deb ...\n",
            "Unpacking fonts-nanum-coding (2.5-1) ...\n",
            "Setting up fonts-nanum-extra (20170925-1) ...\n",
            "Setting up fonts-nanum (20170925-1) ...\n",
            "Setting up fonts-nanum-coding (2.5-1) ...\n",
            "Setting up fonts-nanum-eco (1.000-6) ...\n",
            "Processing triggers for fontconfig (2.12.6-0ubuntu2) ...\n"
          ]
        }
      ]
    },
    {
      "cell_type": "code",
      "metadata": {
        "id": "75RhE6T65dLY",
        "colab": {
          "base_uri": "https://localhost:8080/"
        },
        "outputId": "0384ae5c-ae8a-4e52-ca9a-d9b307013130"
      },
      "source": [
        "####  없어도 됨 [폰트개수 확인용]\n",
        "# 설치 후  폰트 개수 확인,  늘어 난 것을 알 수 있다.\n",
        "\n",
        "import matplotlib.font_manager as fm  # 폰트 관련 용도\n",
        "sys_font=fm.findSystemFonts()\n",
        "print(f\"sys_font number: {len(sys_font)}\")\n",
        "\n",
        "nanum_font = [f for f in sys_font if 'Nanum' in f]\n",
        "print(f\"nanum_font number: {len(nanum_font)}\")"
      ],
      "execution_count": 11,
      "outputs": [
        {
          "output_type": "stream",
          "name": "stdout",
          "text": [
            "sys_font number: 48\n",
            "nanum_font number: 31\n"
          ]
        }
      ]
    },
    {
      "cell_type": "code",
      "metadata": {
        "id": "CzB6468q5k30"
      },
      "source": [
        "# 폰트 매니저 재설정을 위한 명령문 수행 : fm._rebuild()\n",
        "import matplotlib.font_manager as fm\n",
        "fm._rebuild()"
      ],
      "execution_count": 12,
      "outputs": []
    },
    {
      "cell_type": "markdown",
      "metadata": {
        "id": "lu95TR3H2cCk"
      },
      "source": [
        "## [2] 폰트 인식을 위한  '런타임 다시시작'\n",
        "  - '런타임' - '런타임 다시 시작' \n",
        "  - 또는 'Ctrl-M'\n"
      ]
    },
    {
      "cell_type": "markdown",
      "metadata": {
        "id": "40hDBn0xR3FT"
      },
      "source": [
        "## [3] 런타임 재시작 이후 \n",
        "   - 폰트  설정 및 마이너스 부호 오류 처리\n",
        "   - **시작 이후에는 본 셀 이후 부터 실행한다.**"
      ]
    },
    {
      "cell_type": "code",
      "metadata": {
        "id": "eN1C4PjLOANs"
      },
      "source": [
        "# 관련 라이브러리 임포트\n",
        "import matplotlib.font_manager as fm  # 폰트 관련 \n",
        "import matplotlib.pyplot as plt   # 그래프 내 설정\n",
        "import matplotlib as mpl  # 기본 설정 \n"
      ],
      "execution_count": 1,
      "outputs": []
    },
    {
      "cell_type": "code",
      "metadata": {
        "id": "K7XvkPSp2HTL",
        "colab": {
          "base_uri": "https://localhost:8080/"
        },
        "outputId": "95dbc579-ee3b-47d3-f8c7-de528f805652"
      },
      "source": [
        "####  없어도 됨 [폰트개수 확인용]\n",
        "# 런타임 다시 시작 이후, 설치 된 폰트 개수가 증가 한 상태임을 알 수 있다. \n",
        "sys_font=fm.findSystemFonts()\n",
        "print(f\"sys_font number: {len(sys_font)}\")\n",
        "\n",
        "nanum_font = [f for f in sys_font if 'Nanum' in f]\n",
        "print(f\"nanum_font number: {len(nanum_font)}\")"
      ],
      "execution_count": 2,
      "outputs": [
        {
          "output_type": "stream",
          "name": "stdout",
          "text": [
            "sys_font number: 48\n",
            "nanum_font number: 31\n"
          ]
        }
      ]
    },
    {
      "cell_type": "code",
      "metadata": {
        "id": "MSvFSxZcOAN0",
        "colab": {
          "base_uri": "https://localhost:8080/"
        },
        "outputId": "2432d8bb-b892-43ec-eeb0-af958df71630"
      },
      "source": [
        "# 폰트의 경로를 통해 사용할 폰트 (나눔고딕)를 지정한다.\n",
        "path = '/usr/share/fonts/truetype/nanum/NanumGothic.ttf'  # 설치된 나눔글꼴중 사용할 폰트의 전체 경로를 가져오자\n",
        "font_name = fm.FontProperties(fname=path, size=10).get_name()\n",
        "print(font_name)\n",
        "plt.rc('font', family=font_name)\n",
        "# 마이너스 부호 처리에 오류가 있는 경우를 방지 하기 위한 설정\n",
        "mpl.rcParams['axes.unicode_minus'] = False  "
      ],
      "execution_count": 3,
      "outputs": [
        {
          "output_type": "stream",
          "name": "stdout",
          "text": [
            "NanumGothic\n"
          ]
        }
      ]
    },
    {
      "cell_type": "markdown",
      "metadata": {
        "id": "GE0w2jyF4ayH"
      },
      "source": [
        "# **지하철 탑승객 분석**\n",
        "- 파일 읽기\n",
        "- 데이터 보이기\n",
        "- 노선별 집계 및 그래프\n",
        "- 사용일자 별 집계 및 그래프"
      ]
    },
    {
      "cell_type": "markdown",
      "metadata": {
        "id": "D1B2w2SkTWvg"
      },
      "source": [
        "## 1.주요 라이브러리 읽어들이기"
      ]
    },
    {
      "cell_type": "code",
      "metadata": {
        "id": "amzl3IXcOAOI"
      },
      "source": [
        "# 데이터 분석을 위해 필요한 프로그램이 정의된 라이브러리 모듈을 읽어들입니다. \n",
        "import pandas as pd\n",
        "import matplotlib.pyplot as plt\n",
        "%matplotlib inline"
      ],
      "execution_count": 5,
      "outputs": []
    },
    {
      "cell_type": "markdown",
      "metadata": {
        "id": "Jm1mL6Ltcx_K"
      },
      "source": [
        "## 2.파일 읽고 데이터 보이기"
      ]
    },
    {
      "cell_type": "code",
      "metadata": {
        "id": "0PcIIrX5OoGi",
        "colab": {
          "base_uri": "https://localhost:8080/",
          "height": 419
        },
        "outputId": "36996132-73f8-4926-eb49-1a2a5f546083"
      },
      "source": [
        "# 데이터를 읽어 들여서 출력해 봅니다.\n",
        "url = 'https://github.com/cheonhae/ezen1/blob/main/CARD_SUBWAY_MONTH_202108.csv?raw=true'\n",
        "subway = pd.read_csv('https://github.com/cheonhae/ezen1/blob/main/CARD_SUBWAY_MONTH_202108.csv?raw=true',\n",
        "                     engine = \"python\", index_col = False,\n",
        "                    parse_dates=['사용일자', '등록일자'])\n",
        "subway"
      ],
      "execution_count": 6,
      "outputs": [
        {
          "output_type": "execute_result",
          "data": {
            "text/html": [
              "<div>\n",
              "<style scoped>\n",
              "    .dataframe tbody tr th:only-of-type {\n",
              "        vertical-align: middle;\n",
              "    }\n",
              "\n",
              "    .dataframe tbody tr th {\n",
              "        vertical-align: top;\n",
              "    }\n",
              "\n",
              "    .dataframe thead th {\n",
              "        text-align: right;\n",
              "    }\n",
              "</style>\n",
              "<table border=\"1\" class=\"dataframe\">\n",
              "  <thead>\n",
              "    <tr style=\"text-align: right;\">\n",
              "      <th></th>\n",
              "      <th>사용일자</th>\n",
              "      <th>노선명</th>\n",
              "      <th>역명</th>\n",
              "      <th>승차총승객수</th>\n",
              "      <th>하차총승객수</th>\n",
              "      <th>등록일자</th>\n",
              "    </tr>\n",
              "  </thead>\n",
              "  <tbody>\n",
              "    <tr>\n",
              "      <th>0</th>\n",
              "      <td>2021-08-01</td>\n",
              "      <td>중앙선</td>\n",
              "      <td>회기</td>\n",
              "      <td>10269</td>\n",
              "      <td>10305</td>\n",
              "      <td>2021-08-04</td>\n",
              "    </tr>\n",
              "    <tr>\n",
              "      <th>1</th>\n",
              "      <td>2021-08-01</td>\n",
              "      <td>일산선</td>\n",
              "      <td>마두</td>\n",
              "      <td>2306</td>\n",
              "      <td>2354</td>\n",
              "      <td>2021-08-04</td>\n",
              "    </tr>\n",
              "    <tr>\n",
              "      <th>2</th>\n",
              "      <td>2021-08-01</td>\n",
              "      <td>일산선</td>\n",
              "      <td>정발산</td>\n",
              "      <td>3334</td>\n",
              "      <td>3307</td>\n",
              "      <td>2021-08-04</td>\n",
              "    </tr>\n",
              "    <tr>\n",
              "      <th>3</th>\n",
              "      <td>2021-08-01</td>\n",
              "      <td>일산선</td>\n",
              "      <td>주엽</td>\n",
              "      <td>3047</td>\n",
              "      <td>3044</td>\n",
              "      <td>2021-08-04</td>\n",
              "    </tr>\n",
              "    <tr>\n",
              "      <th>4</th>\n",
              "      <td>2021-08-01</td>\n",
              "      <td>일산선</td>\n",
              "      <td>대화</td>\n",
              "      <td>4520</td>\n",
              "      <td>4151</td>\n",
              "      <td>2021-08-04</td>\n",
              "    </tr>\n",
              "    <tr>\n",
              "      <th>...</th>\n",
              "      <td>...</td>\n",
              "      <td>...</td>\n",
              "      <td>...</td>\n",
              "      <td>...</td>\n",
              "      <td>...</td>\n",
              "      <td>...</td>\n",
              "    </tr>\n",
              "    <tr>\n",
              "      <th>18633</th>\n",
              "      <td>2021-08-31</td>\n",
              "      <td>5호선</td>\n",
              "      <td>개화산</td>\n",
              "      <td>4889</td>\n",
              "      <td>4725</td>\n",
              "      <td>2021-09-03</td>\n",
              "    </tr>\n",
              "    <tr>\n",
              "      <th>18634</th>\n",
              "      <td>2021-08-31</td>\n",
              "      <td>과천선</td>\n",
              "      <td>선바위</td>\n",
              "      <td>7498</td>\n",
              "      <td>6443</td>\n",
              "      <td>2021-09-03</td>\n",
              "    </tr>\n",
              "    <tr>\n",
              "      <th>18635</th>\n",
              "      <td>2021-08-31</td>\n",
              "      <td>1호선</td>\n",
              "      <td>서울역</td>\n",
              "      <td>35669</td>\n",
              "      <td>33406</td>\n",
              "      <td>2021-09-03</td>\n",
              "    </tr>\n",
              "    <tr>\n",
              "      <th>18636</th>\n",
              "      <td>2021-08-31</td>\n",
              "      <td>1호선</td>\n",
              "      <td>동묘앞</td>\n",
              "      <td>5809</td>\n",
              "      <td>6035</td>\n",
              "      <td>2021-09-03</td>\n",
              "    </tr>\n",
              "    <tr>\n",
              "      <th>18637</th>\n",
              "      <td>2021-08-31</td>\n",
              "      <td>1호선</td>\n",
              "      <td>시청</td>\n",
              "      <td>19444</td>\n",
              "      <td>19266</td>\n",
              "      <td>2021-09-03</td>\n",
              "    </tr>\n",
              "  </tbody>\n",
              "</table>\n",
              "<p>18638 rows × 6 columns</p>\n",
              "</div>"
            ],
            "text/plain": [
              "            사용일자  노선명   역명  승차총승객수  하차총승객수       등록일자\n",
              "0     2021-08-01  중앙선   회기   10269   10305 2021-08-04\n",
              "1     2021-08-01  일산선   마두    2306    2354 2021-08-04\n",
              "2     2021-08-01  일산선  정발산    3334    3307 2021-08-04\n",
              "3     2021-08-01  일산선   주엽    3047    3044 2021-08-04\n",
              "4     2021-08-01  일산선   대화    4520    4151 2021-08-04\n",
              "...          ...  ...  ...     ...     ...        ...\n",
              "18633 2021-08-31  5호선  개화산    4889    4725 2021-09-03\n",
              "18634 2021-08-31  과천선  선바위    7498    6443 2021-09-03\n",
              "18635 2021-08-31  1호선  서울역   35669   33406 2021-09-03\n",
              "18636 2021-08-31  1호선  동묘앞    5809    6035 2021-09-03\n",
              "18637 2021-08-31  1호선   시청   19444   19266 2021-09-03\n",
              "\n",
              "[18638 rows x 6 columns]"
            ]
          },
          "metadata": {},
          "execution_count": 6
        }
      ]
    },
    {
      "cell_type": "markdown",
      "metadata": {
        "id": "g46OijScTc8d"
      },
      "source": [
        "## 3.노선별 집계 및 그래프"
      ]
    },
    {
      "cell_type": "code",
      "metadata": {
        "id": "8SseK_ecWivM",
        "colab": {
          "base_uri": "https://localhost:8080/",
          "height": 855
        },
        "outputId": "cebb1798-9dcb-4453-d196-b7862fabaf74"
      },
      "source": [
        "# 노선별 집계하고 그래프를 그려봅니다. \n",
        "line_sum = subway.pivot_table(values = ['승차총승객수','하차총승객수'], index = ['노선명'], aggfunc='sum')\n",
        "line_sum"
      ],
      "execution_count": 7,
      "outputs": [
        {
          "output_type": "execute_result",
          "data": {
            "text/html": [
              "<div>\n",
              "<style scoped>\n",
              "    .dataframe tbody tr th:only-of-type {\n",
              "        vertical-align: middle;\n",
              "    }\n",
              "\n",
              "    .dataframe tbody tr th {\n",
              "        vertical-align: top;\n",
              "    }\n",
              "\n",
              "    .dataframe thead th {\n",
              "        text-align: right;\n",
              "    }\n",
              "</style>\n",
              "<table border=\"1\" class=\"dataframe\">\n",
              "  <thead>\n",
              "    <tr style=\"text-align: right;\">\n",
              "      <th></th>\n",
              "      <th>승차총승객수</th>\n",
              "      <th>하차총승객수</th>\n",
              "    </tr>\n",
              "    <tr>\n",
              "      <th>노선명</th>\n",
              "      <th></th>\n",
              "      <th></th>\n",
              "    </tr>\n",
              "  </thead>\n",
              "  <tbody>\n",
              "    <tr>\n",
              "      <th>1호선</th>\n",
              "      <td>4930790</td>\n",
              "      <td>4809891</td>\n",
              "    </tr>\n",
              "    <tr>\n",
              "      <th>2호선</th>\n",
              "      <td>29827011</td>\n",
              "      <td>30050336</td>\n",
              "    </tr>\n",
              "    <tr>\n",
              "      <th>3호선</th>\n",
              "      <td>11399211</td>\n",
              "      <td>11346523</td>\n",
              "    </tr>\n",
              "    <tr>\n",
              "      <th>4호선</th>\n",
              "      <td>10701190</td>\n",
              "      <td>10764499</td>\n",
              "    </tr>\n",
              "    <tr>\n",
              "      <th>5호선</th>\n",
              "      <td>14125719</td>\n",
              "      <td>14070037</td>\n",
              "    </tr>\n",
              "    <tr>\n",
              "      <th>6호선</th>\n",
              "      <td>7320539</td>\n",
              "      <td>7213500</td>\n",
              "    </tr>\n",
              "    <tr>\n",
              "      <th>7호선</th>\n",
              "      <td>15582172</td>\n",
              "      <td>15384310</td>\n",
              "    </tr>\n",
              "    <tr>\n",
              "      <th>8호선</th>\n",
              "      <td>4158786</td>\n",
              "      <td>4202589</td>\n",
              "    </tr>\n",
              "    <tr>\n",
              "      <th>9호선</th>\n",
              "      <td>6066566</td>\n",
              "      <td>6159524</td>\n",
              "    </tr>\n",
              "    <tr>\n",
              "      <th>9호선2~3단계</th>\n",
              "      <td>2102340</td>\n",
              "      <td>2085337</td>\n",
              "    </tr>\n",
              "    <tr>\n",
              "      <th>경강선</th>\n",
              "      <td>666792</td>\n",
              "      <td>650768</td>\n",
              "    </tr>\n",
              "    <tr>\n",
              "      <th>경부선</th>\n",
              "      <td>9777194</td>\n",
              "      <td>9740137</td>\n",
              "    </tr>\n",
              "    <tr>\n",
              "      <th>경원선</th>\n",
              "      <td>4595308</td>\n",
              "      <td>4501402</td>\n",
              "    </tr>\n",
              "    <tr>\n",
              "      <th>경의선</th>\n",
              "      <td>2436121</td>\n",
              "      <td>2401155</td>\n",
              "    </tr>\n",
              "    <tr>\n",
              "      <th>경인선</th>\n",
              "      <td>6427357</td>\n",
              "      <td>6338978</td>\n",
              "    </tr>\n",
              "    <tr>\n",
              "      <th>경춘선</th>\n",
              "      <td>939787</td>\n",
              "      <td>910490</td>\n",
              "    </tr>\n",
              "    <tr>\n",
              "      <th>공항철도 1호선</th>\n",
              "      <td>2224849</td>\n",
              "      <td>2040579</td>\n",
              "    </tr>\n",
              "    <tr>\n",
              "      <th>과천선</th>\n",
              "      <td>2152284</td>\n",
              "      <td>2130917</td>\n",
              "    </tr>\n",
              "    <tr>\n",
              "      <th>분당선</th>\n",
              "      <td>8079076</td>\n",
              "      <td>8333771</td>\n",
              "    </tr>\n",
              "    <tr>\n",
              "      <th>수인선</th>\n",
              "      <td>1298082</td>\n",
              "      <td>1292799</td>\n",
              "    </tr>\n",
              "    <tr>\n",
              "      <th>안산선</th>\n",
              "      <td>2693129</td>\n",
              "      <td>2685787</td>\n",
              "    </tr>\n",
              "    <tr>\n",
              "      <th>우이신설선</th>\n",
              "      <td>1039654</td>\n",
              "      <td>1015361</td>\n",
              "    </tr>\n",
              "    <tr>\n",
              "      <th>일산선</th>\n",
              "      <td>2479772</td>\n",
              "      <td>2411581</td>\n",
              "    </tr>\n",
              "    <tr>\n",
              "      <th>장항선</th>\n",
              "      <td>289999</td>\n",
              "      <td>280711</td>\n",
              "    </tr>\n",
              "    <tr>\n",
              "      <th>중앙선</th>\n",
              "      <td>2134891</td>\n",
              "      <td>2090093</td>\n",
              "    </tr>\n",
              "  </tbody>\n",
              "</table>\n",
              "</div>"
            ],
            "text/plain": [
              "            승차총승객수    하차총승객수\n",
              "노선명                         \n",
              "1호선        4930790   4809891\n",
              "2호선       29827011  30050336\n",
              "3호선       11399211  11346523\n",
              "4호선       10701190  10764499\n",
              "5호선       14125719  14070037\n",
              "6호선        7320539   7213500\n",
              "7호선       15582172  15384310\n",
              "8호선        4158786   4202589\n",
              "9호선        6066566   6159524\n",
              "9호선2~3단계   2102340   2085337\n",
              "경강선         666792    650768\n",
              "경부선        9777194   9740137\n",
              "경원선        4595308   4501402\n",
              "경의선        2436121   2401155\n",
              "경인선        6427357   6338978\n",
              "경춘선         939787    910490\n",
              "공항철도 1호선   2224849   2040579\n",
              "과천선        2152284   2130917\n",
              "분당선        8079076   8333771\n",
              "수인선        1298082   1292799\n",
              "안산선        2693129   2685787\n",
              "우이신설선      1039654   1015361\n",
              "일산선        2479772   2411581\n",
              "장항선         289999    280711\n",
              "중앙선        2134891   2090093"
            ]
          },
          "metadata": {},
          "execution_count": 7
        }
      ]
    },
    {
      "cell_type": "code",
      "metadata": {
        "id": "qsQTp19HQRBf",
        "colab": {
          "base_uri": "https://localhost:8080/",
          "height": 344
        },
        "outputId": "a6424fa6-7e2a-4b14-ff2a-bb60327a3252"
      },
      "source": [
        "subway.pivot_table(values = ['승차총승객수','하차총승객수'], index = ['노선명'], aggfunc='sum').plot(kind = 'bar', stacked = True);"
      ],
      "execution_count": 8,
      "outputs": [
        {
          "output_type": "display_data",
          "data": {
            "image/png": "[encoded data removed]",
            "text/plain": [
              "<Figure size 432x288 with 1 Axes>"
            ]
          },
          "metadata": {
            "needs_background": "light"
          }
        }
      ]
    },
    {
      "cell_type": "markdown",
      "metadata": {
        "id": "eupteZfQTjPx"
      },
      "source": [
        "## 4.사용일자별 집계 및 그래프"
      ]
    },
    {
      "cell_type": "code",
      "metadata": {
        "id": "bwPvEoWlQbSO",
        "colab": {
          "base_uri": "https://localhost:8080/",
          "height": 1000
        },
        "outputId": "3a434006-1ac1-4ecc-deda-7d7f0c3b18db"
      },
      "source": [
        "# 사용일자별 탑승자수 집계 및 그래프 \n",
        "day_sum = subway.pivot_table(values = ['승차총승객수','하차총승객수'], index = ['사용일자'], aggfunc='sum')\n",
        "day_sum\n"
      ],
      "execution_count": 9,
      "outputs": [
        {
          "output_type": "execute_result",
          "data": {
            "text/html": [
              "<div>\n",
              "<style scoped>\n",
              "    .dataframe tbody tr th:only-of-type {\n",
              "        vertical-align: middle;\n",
              "    }\n",
              "\n",
              "    .dataframe tbody tr th {\n",
              "        vertical-align: top;\n",
              "    }\n",
              "\n",
              "    .dataframe thead th {\n",
              "        text-align: right;\n",
              "    }\n",
              "</style>\n",
              "<table border=\"1\" class=\"dataframe\">\n",
              "  <thead>\n",
              "    <tr style=\"text-align: right;\">\n",
              "      <th></th>\n",
              "      <th>승차총승객수</th>\n",
              "      <th>하차총승객수</th>\n",
              "    </tr>\n",
              "    <tr>\n",
              "      <th>사용일자</th>\n",
              "      <th></th>\n",
              "      <th></th>\n",
              "    </tr>\n",
              "  </thead>\n",
              "  <tbody>\n",
              "    <tr>\n",
              "      <th>2021-08-01</th>\n",
              "      <td>2406209</td>\n",
              "      <td>2394034</td>\n",
              "    </tr>\n",
              "    <tr>\n",
              "      <th>2021-08-02</th>\n",
              "      <td>5292404</td>\n",
              "      <td>5275843</td>\n",
              "    </tr>\n",
              "    <tr>\n",
              "      <th>2021-08-03</th>\n",
              "      <td>5380280</td>\n",
              "      <td>5362502</td>\n",
              "    </tr>\n",
              "    <tr>\n",
              "      <th>2021-08-04</th>\n",
              "      <td>5426098</td>\n",
              "      <td>5408459</td>\n",
              "    </tr>\n",
              "    <tr>\n",
              "      <th>2021-08-05</th>\n",
              "      <td>5551905</td>\n",
              "      <td>5535322</td>\n",
              "    </tr>\n",
              "    <tr>\n",
              "      <th>2021-08-06</th>\n",
              "      <td>5637546</td>\n",
              "      <td>5619945</td>\n",
              "    </tr>\n",
              "    <tr>\n",
              "      <th>2021-08-07</th>\n",
              "      <td>3637681</td>\n",
              "      <td>3620820</td>\n",
              "    </tr>\n",
              "    <tr>\n",
              "      <th>2021-08-08</th>\n",
              "      <td>2548465</td>\n",
              "      <td>2534415</td>\n",
              "    </tr>\n",
              "    <tr>\n",
              "      <th>2021-08-09</th>\n",
              "      <td>5718407</td>\n",
              "      <td>5700478</td>\n",
              "    </tr>\n",
              "    <tr>\n",
              "      <th>2021-08-10</th>\n",
              "      <td>5790350</td>\n",
              "      <td>5773232</td>\n",
              "    </tr>\n",
              "    <tr>\n",
              "      <th>2021-08-11</th>\n",
              "      <td>5758169</td>\n",
              "      <td>5740339</td>\n",
              "    </tr>\n",
              "    <tr>\n",
              "      <th>2021-08-12</th>\n",
              "      <td>5726299</td>\n",
              "      <td>5707386</td>\n",
              "    </tr>\n",
              "    <tr>\n",
              "      <th>2021-08-13</th>\n",
              "      <td>5819471</td>\n",
              "      <td>5802254</td>\n",
              "    </tr>\n",
              "    <tr>\n",
              "      <th>2021-08-14</th>\n",
              "      <td>3738873</td>\n",
              "      <td>3722140</td>\n",
              "    </tr>\n",
              "    <tr>\n",
              "      <th>2021-08-15</th>\n",
              "      <td>2766461</td>\n",
              "      <td>2751261</td>\n",
              "    </tr>\n",
              "    <tr>\n",
              "      <th>2021-08-16</th>\n",
              "      <td>3520108</td>\n",
              "      <td>3503397</td>\n",
              "    </tr>\n",
              "    <tr>\n",
              "      <th>2021-08-17</th>\n",
              "      <td>5872499</td>\n",
              "      <td>5852374</td>\n",
              "    </tr>\n",
              "    <tr>\n",
              "      <th>2021-08-18</th>\n",
              "      <td>5834063</td>\n",
              "      <td>5814887</td>\n",
              "    </tr>\n",
              "    <tr>\n",
              "      <th>2021-08-19</th>\n",
              "      <td>5949323</td>\n",
              "      <td>5929088</td>\n",
              "    </tr>\n",
              "    <tr>\n",
              "      <th>2021-08-20</th>\n",
              "      <td>6060991</td>\n",
              "      <td>6041863</td>\n",
              "    </tr>\n",
              "    <tr>\n",
              "      <th>2021-08-21</th>\n",
              "      <td>3424862</td>\n",
              "      <td>3410848</td>\n",
              "    </tr>\n",
              "    <tr>\n",
              "      <th>2021-08-22</th>\n",
              "      <td>2840653</td>\n",
              "      <td>2825668</td>\n",
              "    </tr>\n",
              "    <tr>\n",
              "      <th>2021-08-23</th>\n",
              "      <td>5803829</td>\n",
              "      <td>5783929</td>\n",
              "    </tr>\n",
              "    <tr>\n",
              "      <th>2021-08-24</th>\n",
              "      <td>5793194</td>\n",
              "      <td>5776013</td>\n",
              "    </tr>\n",
              "    <tr>\n",
              "      <th>2021-08-25</th>\n",
              "      <td>6052979</td>\n",
              "      <td>6034353</td>\n",
              "    </tr>\n",
              "    <tr>\n",
              "      <th>2021-08-26</th>\n",
              "      <td>6049373</td>\n",
              "      <td>6030632</td>\n",
              "    </tr>\n",
              "    <tr>\n",
              "      <th>2021-08-27</th>\n",
              "      <td>6041602</td>\n",
              "      <td>6023657</td>\n",
              "    </tr>\n",
              "    <tr>\n",
              "      <th>2021-08-28</th>\n",
              "      <td>4111219</td>\n",
              "      <td>4093925</td>\n",
              "    </tr>\n",
              "    <tr>\n",
              "      <th>2021-08-29</th>\n",
              "      <td>2956284</td>\n",
              "      <td>2940655</td>\n",
              "    </tr>\n",
              "    <tr>\n",
              "      <th>2021-08-30</th>\n",
              "      <td>6072544</td>\n",
              "      <td>6053548</td>\n",
              "    </tr>\n",
              "    <tr>\n",
              "      <th>2021-08-31</th>\n",
              "      <td>5866478</td>\n",
              "      <td>5847808</td>\n",
              "    </tr>\n",
              "  </tbody>\n",
              "</table>\n",
              "</div>"
            ],
            "text/plain": [
              "             승차총승객수   하차총승객수\n",
              "사용일자                        \n",
              "2021-08-01  2406209  2394034\n",
              "2021-08-02  5292404  5275843\n",
              "2021-08-03  5380280  5362502\n",
              "2021-08-04  5426098  5408459\n",
              "2021-08-05  5551905  5535322\n",
              "2021-08-06  5637546  5619945\n",
              "2021-08-07  3637681  3620820\n",
              "2021-08-08  2548465  2534415\n",
              "2021-08-09  5718407  5700478\n",
              "2021-08-10  5790350  5773232\n",
              "2021-08-11  5758169  5740339\n",
              "2021-08-12  5726299  5707386\n",
              "2021-08-13  5819471  5802254\n",
              "2021-08-14  3738873  3722140\n",
              "2021-08-15  2766461  2751261\n",
              "2021-08-16  3520108  3503397\n",
              "2021-08-17  5872499  5852374\n",
              "2021-08-18  5834063  5814887\n",
              "2021-08-19  5949323  5929088\n",
              "2021-08-20  6060991  6041863\n",
              "2021-08-21  3424862  3410848\n",
              "2021-08-22  2840653  2825668\n",
              "2021-08-23  5803829  5783929\n",
              "2021-08-24  5793194  5776013\n",
              "2021-08-25  6052979  6034353\n",
              "2021-08-26  6049373  6030632\n",
              "2021-08-27  6041602  6023657\n",
              "2021-08-28  4111219  4093925\n",
              "2021-08-29  2956284  2940655\n",
              "2021-08-30  6072544  6053548\n",
              "2021-08-31  5866478  5847808"
            ]
          },
          "metadata": {},
          "execution_count": 9
        }
      ]
    },
    {
      "cell_type": "code",
      "metadata": {
        "id": "wUlScHOoSwb2",
        "colab": {
          "base_uri": "https://localhost:8080/",
          "height": 319
        },
        "outputId": "ac601b3b-7f4c-4254-e597-83102bf9d600"
      },
      "source": [
        "subway.pivot_table(values = ['승차총승객수','하차총승객수'], index = ['사용일자'], aggfunc='sum').plot(kind = 'line');"
      ],
      "execution_count": 10,
      "outputs": [
        {
          "output_type": "display_data",
          "data": {
            "image/png": "[encoded data removed]",
            "text/plain": [
              "<Figure size 432x288 with 1 Axes>"
            ]
          },
          "metadata": {
            "needs_background": "light"
          }
        }
      ]
    }
  ]
}