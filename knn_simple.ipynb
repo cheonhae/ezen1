{
  "nbformat": 4,
  "nbformat_minor": 0,
  "metadata": {
    "colab": {
      "provenance": [],
      "include_colab_link": true
    },
    "kernelspec": {
      "name": "python3",
      "display_name": "Python 3"
    },
    "language_info": {
      "name": "python"
    }
  },
  "cells": [
    {
      "cell_type": "markdown",
      "metadata": {
        "id": "view-in-github",
        "colab_type": "text"
      },
      "source": [
        "<a href=\"https://colab.research.google.com/github/cheonhae/sky1/blob/main/knn_simple.ipynb\" target=\"_parent\"><img src=\"https://colab.research.google.com/assets/colab-badge.svg\" alt=\"Open In Colab\"/></a>"
      ]
    },
    {
      "cell_type": "code",
      "source": [
        "X_train = [[0, 0], [1, 1], [2, 2], [3, 3], [4, 4], [5, 5]]\n",
        "y_train = [0, 0, 0, 1, 1, 1]"
      ],
      "metadata": {
        "id": "GPGtmuumikR-"
      },
      "execution_count": null,
      "outputs": []
    },
    {
      "cell_type": "code",
      "source": [
        "# Create a scatter plot of the training dataset\n",
        "import matplotlib.pyplot as plt\n",
        "\n",
        "for i in range(len(X_train)):\n",
        "    if y_train[i] == 0:\n",
        "        plt.scatter(X_train[i][0], X_train[i][1], color='blue')\n",
        "    else:\n",
        "        plt.scatter(X_train[i][0], X_train[i][1], color='red')\n",
        "plt.xlabel('x')\n",
        "plt.ylabel('y')\n",
        "plt.show()"
      ],
      "metadata": {
        "id": "FALRsV_HjAU2"
      },
      "execution_count": null,
      "outputs": []
    },
    {
      "cell_type": "code",
      "execution_count": null,
      "metadata": {
        "id": "21p686w8fFMa"
      },
      "outputs": [],
      "source": [
        "from sklearn.neighbors import KNeighborsClassifier"
      ]
    },
    {
      "cell_type": "code",
      "source": [
        "# Create a KNN model with K=3\n",
        "knn = KNeighborsClassifier(n_neighbors=3)\n"
      ],
      "metadata": {
        "id": "-ZO1Lz_siJNo"
      },
      "execution_count": null,
      "outputs": []
    },
    {
      "cell_type": "code",
      "source": [
        "knn.fit(X_train, y_train)"
      ],
      "metadata": {
        "id": "rY0Kwxl3iMvI"
      },
      "execution_count": null,
      "outputs": []
    },
    {
      "cell_type": "code",
      "source": [
        "# Enter the coordinates of the new point\n",
        "x = float(input(\"Enter the x-coordinate of the new point: \"))\n",
        "y = float(input(\"Enter the y-coordinate of the new point: \"))\n",
        "new_point = [x, y]"
      ],
      "metadata": {
        "id": "pR3D225siRhv"
      },
      "execution_count": null,
      "outputs": []
    },
    {
      "cell_type": "code",
      "source": [
        "prediction = knn.predict([new_point])"
      ],
      "metadata": {
        "id": "tD4DzMptiYvv"
      },
      "execution_count": null,
      "outputs": []
    },
    {
      "cell_type": "code",
      "source": [
        "if prediction == 0:\n",
        "    print(\"The new point belongs to Group 1\")\n",
        "else:\n",
        "    print(\"The new point belongs to Group 2\")"
      ],
      "metadata": {
        "id": "FRysdJVDidyG"
      },
      "execution_count": null,
      "outputs": []
    }
  ]
}